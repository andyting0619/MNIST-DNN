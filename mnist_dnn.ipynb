{
 "cells": [
  {
   "cell_type": "code",
   "execution_count": null,
   "metadata": {},
   "outputs": [],
   "source": [
    "%load_ext jupyter_black\n",
    "%matplotlib inline"
   ]
  },
  {
   "cell_type": "code",
   "execution_count": null,
   "metadata": {},
   "outputs": [],
   "source": [
    "import numpy as np\n",
    "import torch as tc\n",
    "import matplotlib.pyplot as plt"
   ]
  },
  {
   "cell_type": "code",
   "execution_count": null,
   "metadata": {},
   "outputs": [],
   "source": [
    "from torchvision.datasets import MNIST\n",
    "\n",
    "train = MNIST(\"\", download=True, train=True)\n",
    "test = MNIST(\"\", download=True, train=False)"
   ]
  },
  {
   "cell_type": "code",
   "execution_count": null,
   "metadata": {},
   "outputs": [],
   "source": [
    "X_train = train.data\n",
    "y_train = train.targets\n",
    "X_test = test.data\n",
    "y_test = test.targets"
   ]
  },
  {
   "cell_type": "code",
   "execution_count": null,
   "metadata": {},
   "outputs": [],
   "source": [
    "image = X_train[10000]\n",
    "label = y_train[10000]\n",
    "\n",
    "plt.imshow(image, cmap=\"gray\")\n",
    "plt.show()\n",
    "print(\"The number in the image is\", label.numpy())"
   ]
  },
  {
   "cell_type": "code",
   "execution_count": null,
   "metadata": {},
   "outputs": [],
   "source": [
    "train_counts = tc.bincount(y_train).numpy()\n",
    "test_counts = tc.bincount(y_test).numpy()"
   ]
  },
  {
   "cell_type": "code",
   "execution_count": null,
   "metadata": {},
   "outputs": [],
   "source": [
    "print(\"Training set counts:\", train_counts)\n",
    "print(\"Testing set counts:\", test_counts)"
   ]
  },
  {
   "cell_type": "code",
   "execution_count": null,
   "metadata": {},
   "outputs": [],
   "source": [
    "X_train = X_train.numpy()\n",
    "y_train = y_train.numpy()\n",
    "X_test = X_test.numpy()\n",
    "y_test = y_test.numpy()"
   ]
  },
  {
   "cell_type": "code",
   "execution_count": null,
   "metadata": {},
   "outputs": [],
   "source": [
    "print(\"Size of X_train is\", X_train.shape)\n",
    "print(\"Size of y_train is\", y_train.shape)\n",
    "print(\"Size of X_test is\", X_test.shape)\n",
    "print(\"Size of y_test is\", y_test.shape)"
   ]
  },
  {
   "cell_type": "code",
   "execution_count": null,
   "metadata": {},
   "outputs": [],
   "source": [
    "X_train = X_train.reshape(X_train.shape[0], -1)\n",
    "X_test = X_test.reshape(X_test.shape[0], -1)"
   ]
  },
  {
   "cell_type": "code",
   "execution_count": null,
   "metadata": {},
   "outputs": [],
   "source": [
    "print(\"Size of X_train is\", X_train.shape)\n",
    "print(\"Size of X_test is\", X_test.shape)"
   ]
  },
  {
   "cell_type": "code",
   "execution_count": null,
   "metadata": {},
   "outputs": [],
   "source": [
    "from sklearn.preprocessing import StandardScaler\n",
    "\n",
    "scaler = StandardScaler()\n",
    "\n",
    "scaler.fit(X_train)\n",
    "\n",
    "X_train = scaler.transform(X_train)\n",
    "X_test = scaler.transform(X_test)"
   ]
  },
  {
   "cell_type": "code",
   "execution_count": null,
   "metadata": {},
   "outputs": [],
   "source": [
    "X_train = tc.from_numpy(X_train).float()\n",
    "y_train = tc.from_numpy(y_train)\n",
    "X_test = tc.from_numpy(X_test).float()\n",
    "y_test = tc.from_numpy(y_test)"
   ]
  },
  {
   "cell_type": "code",
   "execution_count": null,
   "metadata": {},
   "outputs": [],
   "source": [
    "import torch.nn as nn\n",
    "import torch.nn.init as init\n",
    "\n",
    "\n",
    "class Net(nn.Module):\n",
    "    def __init__(self):\n",
    "        super(Net, self).__init__()\n",
    "        self.fc1 = nn.Linear(784, 523)\n",
    "        self.fc1_dropout = nn.Dropout(0.5)\n",
    "        init.kaiming_normal_(self.fc1.weight)\n",
    "\n",
    "        self.fc2 = nn.Linear(523, 348)\n",
    "        self.bn2 = nn.BatchNorm1d(348)\n",
    "        self.fc2_dropout = nn.Dropout(0.4)\n",
    "        init.kaiming_normal_(self.fc2.weight)\n",
    "\n",
    "        self.fc3 = nn.Linear(348, 232)\n",
    "        self.bn3 = nn.BatchNorm1d(232)\n",
    "        self.fc3_dropout = nn.Dropout(0.3)\n",
    "        init.kaiming_normal_(self.fc3.weight)\n",
    "\n",
    "        self.fc4 = nn.Linear(232, 155)\n",
    "        self.bn4 = nn.BatchNorm1d(155)\n",
    "        self.fc4_dropout = nn.Dropout(0.2)\n",
    "        init.kaiming_normal_(self.fc4.weight)\n",
    "\n",
    "        self.fc5 = nn.Linear(155, 103)\n",
    "        self.bn5 = nn.BatchNorm1d(103)\n",
    "        self.fc5_dropout = nn.Dropout(0.1)\n",
    "        init.kaiming_normal_(self.fc4.weight)\n",
    "\n",
    "        self.fc6 = nn.Linear(103, 10)\n",
    "        init.xavier_normal_(self.fc5.weight)\n",
    "\n",
    "    def forward(self, x):\n",
    "        x = self.fc1(x)\n",
    "        x = tc.relu(x)\n",
    "        x = self.fc1_dropout(x)\n",
    "\n",
    "        x = self.fc2(x)\n",
    "        x = self.bn2(x)\n",
    "        x = tc.relu(x)\n",
    "        x = self.fc2_dropout(x)\n",
    "\n",
    "        x = self.fc3(x)\n",
    "        x = self.bn3(x)\n",
    "        x = tc.relu(x)\n",
    "        x = self.fc3_dropout(x)\n",
    "\n",
    "        x = self.fc4(x)\n",
    "        x = self.bn4(x)\n",
    "        x = tc.relu(x)\n",
    "        x = self.fc4_dropout(x)\n",
    "\n",
    "        x = self.fc5(x)\n",
    "        x = self.bn5(x)\n",
    "        x = tc.relu(x)\n",
    "        x = self.fc5_dropout(x)\n",
    "\n",
    "        x = self.fc6(x)\n",
    "\n",
    "        return x"
   ]
  },
  {
   "cell_type": "code",
   "execution_count": null,
   "metadata": {},
   "outputs": [],
   "source": [
    "import torch.optim as optim\n",
    "\n",
    "model = Net()\n",
    "criterion = nn.CrossEntropyLoss()\n",
    "optimizer = optim.Adam(model.parameters(), lr=1e-3, weight_decay=1e-6)\n",
    "scheduler = optim.lr_scheduler.StepLR(optimizer, step_size=5, gamma=0.1)"
   ]
  },
  {
   "cell_type": "code",
   "execution_count": null,
   "metadata": {},
   "outputs": [],
   "source": [
    "from torch.utils.data import TensorDataset, DataLoader\n",
    "\n",
    "train_dataset = TensorDataset(X_train, y_train)\n",
    "test_dataset = TensorDataset(X_test, y_test)\n",
    "\n",
    "train_loader = DataLoader(train_dataset, batch_size=256, shuffle=True)\n",
    "test_loader = DataLoader(test_dataset, batch_size=256)\n",
    "\n",
    "epochs = 25\n",
    "losses = []\n",
    "val_losses = []\n",
    "\n",
    "for epoch in range(epochs):\n",
    "    epoch_loss = 0\n",
    "    epoch_val_loss = 0\n",
    "\n",
    "    for inputs, targets in train_loader:\n",
    "        optimizer.zero_grad()\n",
    "        outputs = model(inputs)\n",
    "        loss = criterion(outputs, targets)\n",
    "        epoch_loss += loss.item() * inputs.size(0)\n",
    "\n",
    "        loss.backward()\n",
    "        optimizer.step()\n",
    "\n",
    "    epoch_loss /= len(train_dataset)\n",
    "    losses.append(epoch_loss)\n",
    "\n",
    "    model.eval()\n",
    "\n",
    "    with tc.no_grad():\n",
    "        for inputs, targets in test_loader:\n",
    "            val_outputs = model(inputs)\n",
    "            val_loss = criterion(val_outputs, targets)\n",
    "            epoch_val_loss += val_loss.item() * inputs.size(0)\n",
    "\n",
    "    epoch_val_loss /= len(test_dataset)\n",
    "    val_losses.append(epoch_val_loss)\n",
    "\n",
    "    model.train()\n",
    "\n",
    "    if (epoch + 1) % 5 == 0:\n",
    "        print(\n",
    "            f\"Epoch: {epoch + 1}/{epochs}, Training Loss: {losses[epoch]:.4f}, Validation Loss: {val_losses[epoch]:.4f}\"\n",
    "        )"
   ]
  },
  {
   "cell_type": "code",
   "execution_count": null,
   "metadata": {},
   "outputs": [],
   "source": [
    "plt.plot(range(1, epochs + 1), losses, color=\"red\", label=\"loss\")\n",
    "plt.plot(range(1, epochs + 1), val_losses, color=\"blue\", label=\"val loss\")\n",
    "plt.xlabel(\"Epoch\")\n",
    "plt.ylabel(\"Loss\")\n",
    "plt.legend()\n",
    "plt.show()"
   ]
  },
  {
   "cell_type": "code",
   "execution_count": null,
   "metadata": {},
   "outputs": [],
   "source": [
    "model.eval()\n",
    "\n",
    "with tc.no_grad():\n",
    "    train_pred = tc.argmax(model(X_train), dim=1)\n",
    "    test_pred = tc.argmax(model(X_test), dim=1)"
   ]
  },
  {
   "cell_type": "code",
   "execution_count": null,
   "metadata": {},
   "outputs": [],
   "source": [
    "from sklearn.metrics import accuracy_score\n",
    "\n",
    "print(\"Training accuracy score is\", accuracy_score(y_train, train_pred))\n",
    "print(\"Testing accuracy score is\", accuracy_score(y_test, test_pred))"
   ]
  },
  {
   "cell_type": "code",
   "execution_count": null,
   "metadata": {},
   "outputs": [],
   "source": [
    "from sklearn.metrics import precision_score, recall_score, f1_score\n",
    "\n",
    "print(\"Precision score is\", precision_score(y_test, test_pred, average=\"weighted\"))\n",
    "print(\"Recall score is\", recall_score(y_test, test_pred, average=\"weighted\"))\n",
    "print(\"F1 score is\", f1_score(y_test, test_pred, average=\"weighted\"))"
   ]
  },
  {
   "cell_type": "code",
   "execution_count": null,
   "metadata": {},
   "outputs": [],
   "source": [
    "from PIL import Image\n",
    "\n",
    "image = np.array(Image.open(\"number.png\").resize((28, 28)).convert(\"L\"))\n",
    "\n",
    "plt.imshow(image)\n",
    "plt.show()"
   ]
  },
  {
   "cell_type": "code",
   "execution_count": null,
   "metadata": {},
   "outputs": [],
   "source": [
    "image = image.reshape(1, -1)\n",
    "image = scaler.transform(image)\n",
    "image = tc.from_numpy(image).float()"
   ]
  },
  {
   "cell_type": "code",
   "execution_count": null,
   "metadata": {},
   "outputs": [],
   "source": [
    "model.eval()\n",
    "\n",
    "with tc.no_grad():\n",
    "    prediction = tc.argmax(model(image), dim=1)\n",
    "\n",
    "print(\"The model predicts the number\", np.squeeze(prediction.numpy()), \"in the image\")"
   ]
  }
 ],
 "metadata": {
  "kernelspec": {
   "display_name": "Python 3",
   "language": "python",
   "name": "python3"
  },
  "language_info": {
   "codemirror_mode": {
    "name": "ipython",
    "version": 3
   },
   "file_extension": ".py",
   "mimetype": "text/x-python",
   "name": "python",
   "nbconvert_exporter": "python",
   "pygments_lexer": "ipython3",
   "version": "3.12.3"
  }
 },
 "nbformat": 4,
 "nbformat_minor": 2
}
