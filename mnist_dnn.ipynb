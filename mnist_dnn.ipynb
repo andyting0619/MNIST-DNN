{
 "cells": [
  {
   "cell_type": "code",
   "execution_count": 1,
   "metadata": {},
   "outputs": [
    {
     "data": {
      "text/html": [
       "\n",
       "                <script type=\"application/javascript\" id=\"jupyter_black\">\n",
       "                (function() {\n",
       "                    if (window.IPython === undefined) {\n",
       "                        return\n",
       "                    }\n",
       "                    var msg = \"WARNING: it looks like you might have loaded \" +\n",
       "                        \"jupyter_black in a non-lab notebook with \" +\n",
       "                        \"`is_lab=True`. Please double check, and if \" +\n",
       "                        \"loading with `%load_ext` please review the README!\"\n",
       "                    console.log(msg)\n",
       "                    alert(msg)\n",
       "                })()\n",
       "                </script>\n",
       "                "
      ],
      "text/plain": [
       "<IPython.core.display.HTML object>"
      ]
     },
     "metadata": {},
     "output_type": "display_data"
    }
   ],
   "source": [
    "%pip install torch\n",
    "%pip install torchvision\n",
    "%pip install scikit-learn\n",
    "%pip install pillow\n",
    "%pip install matplotlib\n",
    "%matplotlib inline"
   ]
  },
  {
   "cell_type": "code",
   "execution_count": 2,
   "metadata": {},
   "outputs": [],
   "source": [
    "import numpy\n",
    "import torch\n",
    "import matplotlib.pyplot as plt"
   ]
  },
  {
   "cell_type": "code",
   "execution_count": 3,
   "metadata": {},
   "outputs": [],
   "source": [
    "from torchvision.datasets import MNIST\n",
    "\n",
    "train = MNIST(\"\", download=True, train=True)\n",
    "test = MNIST(\"\", download=True, train=False)"
   ]
  },
  {
   "cell_type": "code",
   "execution_count": 4,
   "metadata": {},
   "outputs": [],
   "source": [
    "X_train = train.data\n",
    "y_train = train.targets\n",
    "X_test = test.data\n",
    "y_test = test.targets"
   ]
  },
  {
   "cell_type": "code",
   "execution_count": 5,
   "metadata": {},
   "outputs": [
    {
     "data": {
      "image/png": "[encoded data removed]",
      "text/plain": [
       "<Figure size 640x480 with 1 Axes>"
      ]
     },
     "metadata": {},
     "output_type": "display_data"
    },
    {
     "name": "stdout",
     "output_type": "stream",
     "text": [
      "The number in the image is 3\n"
     ]
    }
   ],
   "source": [
    "image = X_train[10000]\n",
    "label = y_train[10000]\n",
    "\n",
    "plt.imshow(image, cmap=\"gray\")\n",
    "plt.show()\n",
    "print(\"The number in the image is\", label.numpy())"
   ]
  },
  {
   "cell_type": "code",
   "execution_count": 6,
   "metadata": {},
   "outputs": [],
   "source": [
    "X_train = X_train.numpy()\n",
    "y_train = y_train.numpy()\n",
    "X_test = X_test.numpy()\n",
    "y_test = y_test.numpy()"
   ]
  },
  {
   "cell_type": "code",
   "execution_count": 7,
   "metadata": {},
   "outputs": [
    {
     "name": "stdout",
     "output_type": "stream",
     "text": [
      "The size of X_train is (60000, 28, 28)\n",
      "The size of y_train is (60000,)\n",
      "The size of X_test is (10000, 28, 28)\n",
      "The size of y_test is (10000,)\n"
     ]
    }
   ],
   "source": [
    "print(\"The size of X_train is\", X_train.shape)\n",
    "print(\"The size of y_train is\", y_train.shape)\n",
    "print(\"The size of X_test is\", X_test.shape)\n",
    "print(\"The size of y_test is\", y_test.shape)"
   ]
  },
  {
   "cell_type": "code",
   "execution_count": 8,
   "metadata": {},
   "outputs": [
    {
     "name": "stdout",
     "output_type": "stream",
     "text": [
      "The size of X_train is (60000, 784)\n",
      "The size of X_test is (10000, 784)\n"
     ]
    }
   ],
   "source": [
    "X_train = X_train.reshape(X_train.shape[0], -1)\n",
    "X_test = X_test.reshape(X_test.shape[0], -1)\n",
    "\n",
    "print(\"The size of X_train is\", X_train.shape)\n",
    "print(\"The size of X_test is\", X_test.shape)"
   ]
  },
  {
   "cell_type": "code",
   "execution_count": 9,
   "metadata": {},
   "outputs": [],
   "source": [
    "from sklearn.preprocessing import StandardScaler\n",
    "\n",
    "scaler = StandardScaler()\n",
    "\n",
    "scaler.fit(X_train)\n",
    "\n",
    "X_train = scaler.transform(X_train)\n",
    "X_test = scaler.transform(X_test)"
   ]
  },
  {
   "cell_type": "code",
   "execution_count": 10,
   "metadata": {},
   "outputs": [],
   "source": [
    "X_train = torch.from_numpy(X_train).float()\n",
    "y_train = torch.from_numpy(y_train.reshape(-1, 1)).view(-1)\n",
    "X_test = torch.from_numpy(X_test).float()\n",
    "y_test = torch.from_numpy(y_test.reshape(-1, 1)).view(-1)"
   ]
  },
  {
   "cell_type": "code",
   "execution_count": 11,
   "metadata": {},
   "outputs": [],
   "source": [
    "import torch.nn as nn\n",
    "import torch.nn.init as init\n",
    "\n",
    "\n",
    "class Net(nn.Module):\n",
    "    def __init__(self):\n",
    "        super(Net, self).__init__()\n",
    "        self.fc1 = nn.Linear(784, 533)\n",
    "        self.fc1_dropout = nn.Dropout(0.3)\n",
    "        init.kaiming_normal_(self.fc1.weight)\n",
    "\n",
    "        self.fc2 = nn.Linear(533, 365)\n",
    "        self.bn2 = nn.BatchNorm1d(365)\n",
    "        self.fc2_dropout = nn.Dropout(0.25)\n",
    "        init.kaiming_normal_(self.fc2.weight)\n",
    "\n",
    "        self.fc3 = nn.Linear(365, 253)\n",
    "        self.bn3 = nn.BatchNorm1d(253)\n",
    "        self.fc3_dropout = nn.Dropout(0.2)\n",
    "        init.kaiming_normal_(self.fc3.weight)\n",
    "\n",
    "        self.fc4 = nn.Linear(253, 179)\n",
    "        self.bn4 = nn.BatchNorm1d(179)\n",
    "        self.fc4_dropout = nn.Dropout(0.15)\n",
    "        init.kaiming_normal_(self.fc4.weight)\n",
    "\n",
    "        self.fc5 = nn.Linear(179, 129)\n",
    "        self.bn5 = nn.BatchNorm1d(129)\n",
    "        self.fc5_dropout = nn.Dropout(0.1)\n",
    "        init.kaiming_normal_(self.fc4.weight)\n",
    "\n",
    "        self.fc6 = nn.Linear(129, 10)\n",
    "        init.xavier_normal_(self.fc5.weight)\n",
    "\n",
    "    def forward(self, x):\n",
    "        x = self.fc1(x)\n",
    "        x = torch.relu(x)\n",
    "        x = self.fc1_dropout(x)\n",
    "\n",
    "        x = self.fc2(x)\n",
    "        x = self.bn2(x)\n",
    "        x = torch.relu(x)\n",
    "        x = self.fc2_dropout(x)\n",
    "\n",
    "        x = self.fc3(x)\n",
    "        x = self.bn3(x)\n",
    "        x = torch.relu(x)\n",
    "        x = self.fc3_dropout(x)\n",
    "\n",
    "        x = self.fc4(x)\n",
    "        x = self.bn4(x)\n",
    "        x = torch.relu(x)\n",
    "        x = self.fc4_dropout(x)\n",
    "\n",
    "        x = self.fc5(x)\n",
    "        x = self.bn5(x)\n",
    "        x = torch.relu(x)\n",
    "        x = self.fc5_dropout(x)\n",
    "\n",
    "        x = self.fc6(x)\n",
    "\n",
    "        return x"
   ]
  },
  {
   "cell_type": "code",
   "execution_count": 12,
   "metadata": {},
   "outputs": [],
   "source": [
    "import torch.optim as optim\n",
    "\n",
    "model = Net()\n",
    "criterion = nn.CrossEntropyLoss()\n",
    "optimizer = optim.Adam(model.parameters(), lr=0.0001, weight_decay=0.01)\n",
    "scheduler = optim.lr_scheduler.StepLR(optimizer, step_size=5, gamma=0.1)"
   ]
  },
  {
   "cell_type": "code",
   "execution_count": 13,
   "metadata": {},
   "outputs": [
    {
     "name": "stdout",
     "output_type": "stream",
     "text": [
      "Epoch: 5/50, Training Loss: 0.6511, Validation Loss: 0.4148\n",
      "Epoch: 10/50, Training Loss: 0.3155, Validation Loss: 0.2040\n",
      "Epoch: 15/50, Training Loss: 0.2015, Validation Loss: 0.1362\n",
      "Epoch: 20/50, Training Loss: 0.1382, Validation Loss: 0.1032\n",
      "Epoch: 25/50, Training Loss: 0.0970, Validation Loss: 0.0871\n",
      "Epoch: 30/50, Training Loss: 0.0740, Validation Loss: 0.0793\n",
      "Epoch: 35/50, Training Loss: 0.0570, Validation Loss: 0.0771\n",
      "Epoch: 40/50, Training Loss: 0.0491, Validation Loss: 0.0725\n",
      "Epoch: 45/50, Training Loss: 0.0415, Validation Loss: 0.0798\n",
      "Epoch: 50/50, Training Loss: 0.0422, Validation Loss: 0.0824\n"
     ]
    }
   ],
   "source": [
    "from torch.utils.data import TensorDataset, DataLoader\n",
    "\n",
    "train_dataset = TensorDataset(X_train, y_train)\n",
    "test_dataset = TensorDataset(X_test, y_test)\n",
    "\n",
    "train_loader = DataLoader(train_dataset, batch_size=1024, shuffle=True)\n",
    "test_loader = DataLoader(test_dataset, batch_size=1024)\n",
    "\n",
    "epochs = 50\n",
    "losses = []\n",
    "val_losses = []\n",
    "\n",
    "for epoch in range(epochs):\n",
    "    epoch_loss = 0\n",
    "    epoch_val_loss = 0\n",
    "\n",
    "    for inputs, targets in train_loader:\n",
    "        optimizer.zero_grad()\n",
    "        outputs = model(inputs)\n",
    "        loss = criterion(outputs, targets)\n",
    "        epoch_loss += loss.item() * inputs.size(0)\n",
    "\n",
    "        loss.backward()\n",
    "        optimizer.step()\n",
    "\n",
    "    epoch_loss /= len(train_dataset)\n",
    "    losses.append(epoch_loss)\n",
    "\n",
    "    model.eval()\n",
    "\n",
    "    with torch.no_grad():\n",
    "        for inputs, targets in test_loader:\n",
    "            val_outputs = model(inputs)\n",
    "            val_loss = criterion(val_outputs, targets)\n",
    "            epoch_val_loss += val_loss.item() * inputs.size(0)\n",
    "\n",
    "    epoch_val_loss /= len(test_dataset)\n",
    "    val_losses.append(epoch_val_loss)\n",
    "\n",
    "    model.train()\n",
    "\n",
    "    if (epoch + 1) % 5 == 0:\n",
    "        print(\n",
    "            f\"Epoch: {epoch + 1}/{epochs}, Training Loss: {losses[epoch]:.4f}, Validation Loss: {val_losses[epoch]:.4f}\"\n",
    "        )"
   ]
  },
  {
   "cell_type": "code",
   "execution_count": 14,
   "metadata": {},
   "outputs": [
    {
     "data": {
      "image/png": "[encoded data removed]",
      "text/plain": [
       "<Figure size 640x480 with 1 Axes>"
      ]
     },
     "metadata": {},
     "output_type": "display_data"
    }
   ],
   "source": [
    "plt.plot(range(1, epochs + 1), losses, color=\"red\", label=\"loss\")\n",
    "plt.plot(range(1, epochs + 1), val_losses, color=\"blue\", label=\"val loss\")\n",
    "plt.xlabel(\"Epoch\")\n",
    "plt.ylabel(\"Loss\")\n",
    "plt.legend()\n",
    "plt.show()"
   ]
  },
  {
   "cell_type": "code",
   "execution_count": 15,
   "metadata": {},
   "outputs": [],
   "source": [
    "model.eval()\n",
    "\n",
    "with torch.no_grad():\n",
    "    train_pred = torch.argmax(model(X_train), dim=1)\n",
    "    test_pred = torch.argmax(model(X_test), dim=1)"
   ]
  },
  {
   "cell_type": "code",
   "execution_count": 16,
   "metadata": {},
   "outputs": [
    {
     "name": "stdout",
     "output_type": "stream",
     "text": [
      "The training accuracy is 99.89%\n",
      "The testing accuracy is 98.09%\n"
     ]
    }
   ],
   "source": [
    "from sklearn.metrics import accuracy_score\n",
    "\n",
    "print(f\"The training accuracy is {100 * accuracy_score(y_train, train_pred):.2f}%\")\n",
    "print(f\"The testing accuracy is {100 * accuracy_score(y_test, test_pred):.2f}%\")"
   ]
  },
  {
   "cell_type": "code",
   "execution_count": 17,
   "metadata": {},
   "outputs": [
    {
     "data": {
      "image/png": "[encoded data removed]",
      "text/plain": [
       "<Figure size 640x480 with 1 Axes>"
      ]
     },
     "metadata": {},
     "output_type": "display_data"
    }
   ],
   "source": [
    "from PIL import Image\n",
    "\n",
    "image = numpy.array(Image.open(\"number.png\").resize((28, 28)).convert(\"L\"))\n",
    "\n",
    "plt.imshow(image)\n",
    "plt.show()"
   ]
  },
  {
   "cell_type": "code",
   "execution_count": 18,
   "metadata": {},
   "outputs": [],
   "source": [
    "image = image.reshape(1, -1)\n",
    "image = scaler.transform(image)"
   ]
  },
  {
   "cell_type": "code",
   "execution_count": 19,
   "metadata": {},
   "outputs": [
    {
     "name": "stdout",
     "output_type": "stream",
     "text": [
      "The model predicts the number 3 in the image\n"
     ]
    }
   ],
   "source": [
    "model.eval()\n",
    "\n",
    "with torch.no_grad():\n",
    "    prediction = torch.argmax(model(torch.from_numpy(image).float()), dim=1)\n",
    "\n",
    "print(\n",
    "    \"The model predicts the number\", numpy.squeeze(prediction.numpy()), \"in the image\"\n",
    ")"
   ]
  }
 ],
 "metadata": {
  "kernelspec": {
   "display_name": "Python 3",
   "language": "python",
   "name": "python3"
  },
  "language_info": {
   "codemirror_mode": {
    "name": "ipython",
    "version": 3
   },
   "file_extension": ".py",
   "mimetype": "text/x-python",
   "name": "python",
   "nbconvert_exporter": "python",
   "pygments_lexer": "ipython3",
   "version": "3.11.8"
  }
 },
 "nbformat": 4,
 "nbformat_minor": 2
}
